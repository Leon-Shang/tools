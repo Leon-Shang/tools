{
 "cells": [
  {
   "attachments": {},
   "cell_type": "markdown",
   "metadata": {},
   "source": [
    "# Import"
   ]
  },
  {
   "attachments": {},
   "cell_type": "markdown",
   "metadata": {},
   "source": [
    "**Eliminate repetitive `import`**"
   ]
  },
  {
   "cell_type": "code",
   "execution_count": 6,
   "metadata": {},
   "outputs": [
    {
     "name": "stdout",
     "output_type": "stream",
     "text": [
      "from torch import nn\n",
      "from torch.nn import Module\n",
      "from torch.nn import ModuleList\n",
      "from typing import List, Optional\n",
      "import copy\n",
      "import inspect\n",
      "import math\n",
      "import matplotlib.pyplot as plt\n",
      "import pandas as pd\n",
      "import torch\n"
     ]
    }
   ],
   "source": [
    "# get import strings from clipboard\n",
    "import pyperclip\n",
    "import re\n",
    "\n",
    "import_strings = pyperclip.paste()\n",
    "import_strings = import_strings.split('\\n')\n",
    "import_strings = [x.strip('\\r') for x in import_strings]\n",
    "unique_import_strings = list(set(import_strings))\n",
    "# eleminate empty strings\n",
    "unique_import_strings = [x for x in unique_import_strings if x != '' and x != '\\r']\n",
    "\n",
    "unique_import_strings.sort()\n",
    "unique_import_strings = '\\n'.join(unique_import_strings)\n",
    "pyperclip.copy(unique_import_strings)\n",
    "print(unique_import_strings)"
   ]
  },
  {
   "attachments": {},
   "cell_type": "markdown",
   "metadata": {},
   "source": [
    "# Comment"
   ]
  },
  {
   "attachments": {},
   "cell_type": "markdown",
   "metadata": {},
   "source": [
    "**Stripe comments form python codes** "
   ]
  },
  {
   "cell_type": "code",
   "execution_count": 21,
   "metadata": {},
   "outputs": [],
   "source": [
    "import re\n",
    "\n",
    "def remove_comments(code):\n",
    "    # Remove single line comments\n",
    "    code = re.sub(r'#.*$', '', code, flags=re.MULTILINE)\n",
    "\n",
    "    # Remove multiline comments\n",
    "    code = re.sub(r\"'''[\\s\\S]*?'''\", '', code)\n",
    "    code = re.sub(r'\"\"\"[\\s\\S]*?\"\"\"', '', code)\n",
    "    code = re.sub(r'\\n\\s*\\n', '\\n\\n', code)\n",
    "    return code\n",
    "\n",
    "def read_code_file(file_path):\n",
    "    with open(file_path, 'r') as file:\n",
    "        return file.read()\n",
    "\n",
    "if __name__ == \"__main__\":\n",
    "    # Replace 'your_file_path.py' with the path to the file you want to read\n",
    "    file_path = 'your_source_code.py'\n",
    "\n",
    "    code = read_code_file(file_path)\n",
    "    cleaned_code = remove_comments(code)\n",
    "    with open(file_path+'_withoutComments.py', 'w') as file:\n",
    "        file.write(cleaned_code)\n"
   ]
  },
  {
   "cell_type": "code",
   "execution_count": null,
   "metadata": {},
   "outputs": [],
   "source": [
    "def reverse_diffusion(model, sd, timesteps=1000, vector_dim=128, \n",
    "                      num_vectors=5, nrow=8, device=\"cpu\", **kwargs):\n",
    " \n",
    "    x = torch.randn((num_vectors, vector_dim), device=device)\n",
    "    model.eval()\n",
    " \n",
    "    for time_step in tqdm(iterable=reversed(range(1, timesteps)), \n",
    "                          total=timesteps-1, dynamic_ncols=False, \n",
    "                          desc=\"Sampling :: \", position=0):\n",
    " \n",
    "        ts = torch.ones(num_vectors, dtype=torch.long, device=device) * time_step\n",
    "        z = torch.randn_like(x) if time_step > 1 else torch.zeros_like(x)\n",
    " \n",
    "        predicted_noise = model(x, ts)\n",
    " \n",
    "        beta_t                            = sd.beta[ts].unsqueeze(-1)\n",
    "        one_by_sqrt_alpha_t               = sd.one_by_sqrt_alpha[ts].unsqueeze(-1)\n",
    "        sqrt_one_minus_alpha_cumulative_t = sd.sqrt_one_minus_alpha_cumulative[ts].unsqueeze(-1)\n",
    " \n",
    "        x = (\n",
    "            one_by_sqrt_alpha_t\n",
    "            * (x - (beta_t / sqrt_one_minus_alpha_cumulative_t) * predicted_noise)\n",
    "            + torch.sqrt(beta_t) * z\n",
    "        )\n",
    "    print(x)\n",
    "    return None"
   ]
  }
 ],
 "metadata": {
  "kernelspec": {
   "display_name": "py311_tools",
   "language": "python",
   "name": "python3"
  },
  "language_info": {
   "codemirror_mode": {
    "name": "ipython",
    "version": 3
   },
   "file_extension": ".py",
   "mimetype": "text/x-python",
   "name": "python",
   "nbconvert_exporter": "python",
   "pygments_lexer": "ipython3",
   "version": "3.8.5"
  },
  "orig_nbformat": 4
 },
 "nbformat": 4,
 "nbformat_minor": 2
}
