{
 "cells": [
  {
   "attachments": {},
   "cell_type": "markdown",
   "metadata": {},
   "source": [
    "folder_dir"
   ]
  },
  {
   "cell_type": "code",
   "execution_count": null,
   "metadata": {},
   "outputs": [],
   "source": [
    "import os \n",
    "import json \n",
    "folder_dict = {\n",
    "    'doc': 'files/doc',\n",
    "    'md': 'files/md',\n",
    "}\n",
    "for dir in folder_dict.values():\n",
    "    os.makedirs(dir, exist_ok=True)\n",
    "\n",
    "if os.path.exists('files/folder_dir.json'):\n",
    "    with open('files/folder_dir.json', 'r') as f:\n",
    "        folder_dict.update(json.load(f))\n",
    "\n",
    "with open('files/folder_dir.json', 'w') as f:\n",
    "    json.dump(folder_dict, f, indent=4)"
   ]
  },
  {
   "cell_type": "code",
   "execution_count": null,
   "metadata": {},
   "outputs": [],
   "source": [
    "with open('files/folder_dir.json', 'r') as f:\n",
    "    folder_dict = json.load(f)\n"
   ]
  },
  {
   "attachments": {},
   "cell_type": "markdown",
   "metadata": {},
   "source": [
    "# md format \n"
   ]
  },
  {
   "attachments": {},
   "cell_type": "markdown",
   "metadata": {},
   "source": [
    "## equation"
   ]
  },
  {
   "cell_type": "code",
   "execution_count": null,
   "metadata": {},
   "outputs": [],
   "source": [
    "import re\n",
    "import json\n",
    "import os \n",
    "\n",
    "with open('files/folder_dir.json', 'r') as file:\n",
    "    folder_dir = json.load(file)\n",
    "\n",
    "input_md_dir = os.path.join(folder_dir['md'], 'input.md')\n",
    "output_md_dir = os.path.join(folder_dir['md'], 'output.md')\n",
    "\n",
    "def find_latex_blocks(text):\n",
    "    # Find all occurrences of '$$' in the text\n",
    "    matches = re.findall(r'\\$\\$(.*?)\\$\\$', text, flags=re.DOTALL)\n",
    "    matches_set = set(matches)\n",
    "    return matches_set\n",
    "\n",
    "def convert_multiline_latex_blocks(text):\n",
    "    # Replace all occurrences of '\\\\\\n' within '$$' blocks with '$$\\n$$'\n",
    "    return re.sub(r'\\\\\\\\', '\\n'+r'$$'+'\\n'+\"$$\", text)\n",
    "\n",
    "\n",
    "with open(input_md_dir, 'r') as file:\n",
    "    text = file.read()\n",
    "    latex_blocks_set = find_latex_blocks(text)\n",
    "    for block in latex_blocks_set:\n",
    "        new_block = convert_multiline_latex_blocks(block)\n",
    "        text = text.replace(block, new_block)\n",
    "\n",
    "with open(output_md_dir, 'w') as file:\n",
    "    file.write(text)\n",
    "\n"
   ]
  },
  {
   "attachments": {},
   "cell_type": "markdown",
   "metadata": {},
   "source": [
    "# md to word"
   ]
  },
  {
   "cell_type": "code",
   "execution_count": null,
   "metadata": {},
   "outputs": [],
   "source": [
    "! pip install pypandoc"
   ]
  },
  {
   "cell_type": "code",
   "execution_count": null,
   "metadata": {},
   "outputs": [],
   "source": [
    "! pip install python-docx"
   ]
  },
  {
   "cell_type": "code",
   "execution_count": null,
   "metadata": {},
   "outputs": [],
   "source": [
    "import pypandoc\n",
    "\n",
    "\n",
    "input_md_dir = os.path.join(folder_dict['md'], 'output.md')\n",
    "output_docx_dir = os.path.join(folder_dict['doc'], 'input.docx')\n",
    "# Convert md to docx using pandoc\n",
    "output = pypandoc.convert_file(input_md_dir, 'docx', outputfile=output_docx_dir)\n",
    "\n"
   ]
  }
 ],
 "metadata": {
  "kernelspec": {
   "display_name": "py39_tools",
   "language": "python",
   "name": "python3"
  },
  "language_info": {
   "codemirror_mode": {
    "name": "ipython",
    "version": 3
   },
   "file_extension": ".py",
   "mimetype": "text/x-python",
   "name": "python",
   "nbconvert_exporter": "python",
   "pygments_lexer": "ipython3",
   "version": "3.9.16"
  }
 },
 "nbformat": 4,
 "nbformat_minor": 2
}
