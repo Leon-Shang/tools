{
 "cells": [
  {
   "attachments": {},
   "cell_type": "markdown",
   "metadata": {},
   "source": [
    "folder_dir"
   ]
  },
  {
   "cell_type": "code",
   "execution_count": null,
   "metadata": {},
   "outputs": [],
   "source": [
    "import os \n",
    "import json \n",
    "folder_dict = {\n",
    "    'doc': 'files/doc',\n",
    "    'md': 'files/md',\n",
    "}\n",
    "for dir in folder_dict.values():\n",
    "    os.makedirs(dir, exist_ok=True)\n",
    "\n",
    "if os.path.exists('files/folder_dir.json'):\n",
    "    with open('files/folder_dir.json', 'r') as f:\n",
    "        folder_dict.update(json.load(f))\n",
    "\n",
    "with open('files/folder_dir.json', 'w') as f:\n",
    "    json.dump(folder_dict, f, indent=4)"
   ]
  },
  {
   "cell_type": "code",
   "execution_count": null,
   "metadata": {},
   "outputs": [],
   "source": [
    "with open('files/folder_dir.json', 'r') as f:\n",
    "    folder_dict = json.load(f)\n"
   ]
  },
  {
   "attachments": {},
   "cell_type": "markdown",
   "metadata": {},
   "source": [
    "# md format \n"
   ]
  },
  {
   "attachments": {},
   "cell_type": "markdown",
   "metadata": {},
   "source": [
    "## equation"
   ]
  },
  {
   "cell_type": "code",
   "execution_count": null,
   "metadata": {},
   "outputs": [],
   "source": []
  },
  {
   "attachments": {},
   "cell_type": "markdown",
   "metadata": {},
   "source": [
    "## paragraph"
   ]
  },
  {
   "cell_type": "code",
   "execution_count": null,
   "metadata": {},
   "outputs": [],
   "source": [
    "from md.paragraph import combine_lines\n",
    "\n",
    "combine_lines()\n"
   ]
  },
  {
   "cell_type": "code",
   "execution_count": null,
   "metadata": {},
   "outputs": [],
   "source": [
    "from md.reference import extract_references \n",
    "\n",
    "extract_references()"
   ]
  },
  {
   "cell_type": "code",
   "execution_count": null,
   "metadata": {},
   "outputs": [],
   "source": []
  },
  {
   "cell_type": "code",
   "execution_count": null,
   "metadata": {},
   "outputs": [],
   "source": [
    "a = 'AS'\n",
    "a.lower()"
   ]
  },
  {
   "cell_type": "code",
   "execution_count": null,
   "metadata": {},
   "outputs": [],
   "source": [
    "a = '   - [asdf asd ][asdf asd ]()'\n",
    "\n",
    "import re\n",
    "re.match(r' *-',a).end()"
   ]
  },
  {
   "cell_type": "code",
   "execution_count": null,
   "metadata": {},
   "outputs": [],
   "source": [
    "a = '   - [asdf asd ][asdf asd ]()'\n",
    "\n",
    "import re\n",
    "if re.match(r' *-',a):\n",
    "    print('yes')\n",
    "\n",
    "iter = re.finditer(r'\\[.*?\\]',a)\n",
    "a[next(iter).end()]"
   ]
  },
  {
   "cell_type": "code",
   "execution_count": null,
   "metadata": {},
   "outputs": [],
   "source": [
    "a[next(iter).span()[1]]"
   ]
  },
  {
   "attachments": {},
   "cell_type": "markdown",
   "metadata": {},
   "source": [
    "# md to word"
   ]
  },
  {
   "cell_type": "code",
   "execution_count": null,
   "metadata": {},
   "outputs": [],
   "source": [
    "! pip install pypandoc"
   ]
  },
  {
   "cell_type": "code",
   "execution_count": null,
   "metadata": {},
   "outputs": [],
   "source": [
    "! pip install python-docx"
   ]
  },
  {
   "cell_type": "code",
   "execution_count": null,
   "metadata": {},
   "outputs": [],
   "source": [
    "import pypandoc\n",
    "\n",
    "\n",
    "input_md_dir = os.path.join(folder_dict['md'], 'output.md')\n",
    "output_docx_dir = os.path.join(folder_dict['doc'], 'input.docx')\n",
    "# Convert md to docx using pandoc\n",
    "output = pypandoc.convert_file(input_md_dir, 'docx', outputfile=output_docx_dir)\n",
    "\n"
   ]
  }
 ],
 "metadata": {
  "kernelspec": {
   "display_name": "py39_tools",
   "language": "python",
   "name": "python3"
  },
  "language_info": {
   "codemirror_mode": {
    "name": "ipython",
    "version": 3
   },
   "file_extension": ".py",
   "mimetype": "text/x-python",
   "name": "python",
   "nbconvert_exporter": "python",
   "pygments_lexer": "ipython3",
   "version": "3.9.16"
  }
 },
 "nbformat": 4,
 "nbformat_minor": 2
}
