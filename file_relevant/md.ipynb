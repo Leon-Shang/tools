{
 "cells": [
  {
   "cell_type": "code",
   "execution_count": null,
   "metadata": {},
   "outputs": [],
   "source": [
    "import json\n",
    "with open('files/folder_dir.json', 'r') as f:\n",
    "    folder_dict = json.load(f)"
   ]
  },
  {
   "cell_type": "code",
   "execution_count": null,
   "metadata": {},
   "outputs": [],
   "source": [
    "import pypandoc\n",
    "import os \n",
    "\n",
    "input_dir = os.path.join(folder_dict['md'], 'input.md')\n",
    "output_dir = os.path.join(folder_dict['doc'], 'output.docx')\n",
    "\n",
    "# Convert md to docx using pandoc\n",
    "output = pypandoc.convert_file(input——dir, 'docx', outputfile=output_dir)\n"
   ]
  }
 ],
 "metadata": {
  "kernelspec": {
   "display_name": "py39_tools",
   "language": "python",
   "name": "python3"
  },
  "language_info": {
   "name": "python",
   "version": "3.9.16"
  }
 },
 "nbformat": 4,
 "nbformat_minor": 2
}
