{
 "cells": [
  {
   "cell_type": "code",
   "execution_count": 1,
   "metadata": {},
   "outputs": [
    {
     "name": "stdout",
     "output_type": "stream",
     "text": [
      "Collecting pypdf2\n",
      "  Using cached pypdf2-3.0.1-py3-none-any.whl (232 kB)\n",
      "Requirement already satisfied: typing_extensions>=3.10.0.0 in d:\\installed_software\\anaconda\\envs\\py39_tools\\lib\\site-packages (from pypdf2) (4.5.0)\n",
      "Installing collected packages: pypdf2\n",
      "Successfully installed pypdf2-3.0.1\n"
     ]
    }
   ],
   "source": [
    "! pip install pypdf2"
   ]
  },
  {
   "cell_type": "code",
   "execution_count": 6,
   "metadata": {},
   "outputs": [
    {
     "name": "stdout",
     "output_type": "stream",
     "text": [
      "Collecting pdfrw\n",
      "  Downloading pdfrw-0.4-py2.py3-none-any.whl (69 kB)\n",
      "     -------------------------------------- 69.5/69.5 kB 630.0 kB/s eta 0:00:00\n",
      "Installing collected packages: pdfrw\n",
      "Successfully installed pdfrw-0.4\n"
     ]
    }
   ],
   "source": [
    "! pip install pdfrw"
   ]
  },
  {
   "cell_type": "code",
   "execution_count": 67,
   "metadata": {},
   "outputs": [],
   "source": [
    "import os\n",
    "import PyPDF2\n",
    "\n",
    "def add_bookmark_from_dict(writer, bookmark_dicts: list, parent=None):\n",
    "    \"\"\"\n",
    "    Add a bookmark to a PdfFileWriter object from a dictionary.\n",
    "\n",
    "    :param writer: The PdfFileWriter object you want to add the bookmark to\n",
    "    :param bookmark_dict: The dictionary containing the bookmark information\n",
    "    :param parent: The parent bookmark if this is a nested bookmark, default is None\n",
    "    \"\"\"\n",
    "    for bookmark in bookmark_dicts:\n",
    "        if type(bookmark) == list:\n",
    "            try:\n",
    "                new_parent =  current_node\n",
    "            except:\n",
    "                pass\n",
    "            add_bookmark_from_dict(writer, bookmark, parent=new_parent)\n",
    "        else: \n",
    "            current_node = writer.add_outline_item(bookmark.title, bookmark.page, parent=parent)\n",
    "            \n",
    "            \n",
    "    \n",
    "    \n",
    "\n",
    "def combine_pdfs(input_folder='files/pdf'):\n",
    "    # Create a PdfWriter object\n",
    "    pdf_writer = PyPDF2.PdfWriter()\n",
    "\n",
    "    pdf_list = [os.path.join(input_folder, fn) for fn in os.listdir(input_folder) if fn.endswith('.pdf')]\n",
    "\n",
    "    # Iterate through the list of PDFs\n",
    "    for pdf_file in pdf_list:\n",
    "        # Create a PdfReader object\n",
    "        with open(pdf_file, 'rb') as f:\n",
    "            pdf_reader = PyPDF2.PdfReader(f)\n",
    "            outlines = pdf_reader.outline\n",
    "            info = pdf_reader.metadata\n",
    "            title = info.subject.split(',')[0]\n",
    "            # Iterate through the pages of the PDF and add them to the writer\n",
    "            for page_num in range(len(pdf_reader.pages)):\n",
    "                page = pdf_reader.pages[page_num]\n",
    "                pdf_writer.add_page(page)\n",
    "            add_bookmark_from_dict(pdf_writer, outlines)\n",
    "    # Write the combined pages to the output file\n",
    "    output_filename = f'{title}_combined.pdf'\n",
    "    with open(f'{input_folder}/{output_filename}', 'wb') as output_file:\n",
    "        pdf_writer.write(output_file)\n",
    "        \n",
    "\n",
    "# Example usage:\n",
    "combine_pdfs()\n"
   ]
  }
 ],
 "metadata": {
  "kernelspec": {
   "display_name": "py39_tools",
   "language": "python",
   "name": "python3"
  },
  "language_info": {
   "codemirror_mode": {
    "name": "ipython",
    "version": 3
   },
   "file_extension": ".py",
   "mimetype": "text/x-python",
   "name": "python",
   "nbconvert_exporter": "python",
   "pygments_lexer": "ipython3",
   "version": "3.9.16"
  },
  "orig_nbformat": 4
 },
 "nbformat": 4,
 "nbformat_minor": 2
}
