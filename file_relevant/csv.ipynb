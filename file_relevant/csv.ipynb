{
 "cells": [
  {
   "attachments": {},
   "cell_type": "markdown",
   "metadata": {},
   "source": [
    "# Combine csv"
   ]
  },
  {
   "attachments": {},
   "cell_type": "markdown",
   "metadata": {},
   "source": [
    "**Combine on rows**\n",
    "\n",
    "Add more rows without changing the number of columns"
   ]
  },
  {
   "cell_type": "code",
   "execution_count": 4,
   "metadata": {},
   "outputs": [],
   "source": [
    "import glob\n",
    "import os\n",
    "import pandas as pd\n",
    "def file_order_rule_number_after_someString(fileName_list, string, divSig='_'):\n",
    "\n",
    "    order_list = []\n",
    "    file_order_dict = {}\n",
    "    for fileName in fileName_list:\n",
    "        order_num = int(fileName.split(string)[1].split(divSig)[0])\n",
    "        order_list.append(order_num)\n",
    "        file_order_dict[order_num] = fileName\n",
    "    order_list.sort()\n",
    "    ordered_fileName_list = [file_order_dict[order_num] for order_num in order_list]\n",
    "    return ordered_fileName_list\n",
    "def combined_csv(input_folder='./files/csv', output_file='./files/csv/000_combined.csv'):\n",
    "    csv_files = glob.glob(os.path.join(input_folder, '*.csv'))\n",
    "    csv_files = file_order_rule_number_after_someString(csv_files, 'trained')\n",
    "    df = pd.concat((pd.read_csv(f) for f in csv_files))\n",
    "    df.to_csv(output_file, index=False, encoding='utf-8-sig')\n",
    "combined_csv()"
   ]
  },
  {
   "cell_type": "code",
   "execution_count": 5,
   "metadata": {},
   "outputs": [],
   "source": [
    "from general_function import delete_all_files\n",
    "delete_all_files('./files/csv')"
   ]
  },
  {
   "attachments": {},
   "cell_type": "markdown",
   "metadata": {},
   "source": [
    "**Combine columns**\n",
    "\n",
    "Add more columns without changing the number of rows."
   ]
  },
  {
   "cell_type": "code",
   "execution_count": 17,
   "metadata": {},
   "outputs": [
    {
     "name": "stdout",
     "output_type": "stream",
     "text": [
      "BERT\n",
      "Index(['data_name', 'accuracy'], dtype='object')\n",
      "  data_name     BERT\n",
      "0    d00_te  0.20500\n",
      "1    d01_te  0.99375\n",
      "2    d02_te  0.96375\n",
      "3    d03_te  0.20375\n",
      "4    d04_te  0.86375\n",
      "RATransformer\n",
      "Index(['data_name', 'accuracy'], dtype='object')\n",
      "  data_name  RATransformer\n",
      "0    d00_te        0.05875\n",
      "1    d01_te        0.99250\n",
      "2    d02_te        0.98125\n",
      "3    d03_te        0.33750\n",
      "4    d04_te        0.98875\n",
      "SDAE\n",
      "Index(['data_name', 'accuracy'], dtype='object')\n",
      "  data_name     SDAE\n",
      "0    d00_te  0.15250\n",
      "1    d01_te  0.99375\n",
      "2    d02_te  0.97500\n",
      "3    d03_te  0.17000\n",
      "4    d04_te  0.86250\n"
     ]
    }
   ],
   "source": [
    "import glob\n",
    "import os\n",
    "import pandas as pd\n",
    "\n",
    "def df_change_column_name_to_file_name(df, file_dir, column_name_to_change):\n",
    "    file_name = file_dir.split('\\\\')[-1].split('.')[0]\n",
    "    # change column name\n",
    "    print(file_name)\n",
    "    print(df.columns)\n",
    "    df = df.rename(columns={column_name_to_change: file_name})\n",
    "    print(df.head())\n",
    "\n",
    "    return df\n",
    "\n",
    "\n",
    "def combined_csv(input_folder='./files/csv', output_file='./files/csv/000_combined.csv', df_index=None, df_name_changing_to_file_name=None):\n",
    "    csv_files = glob.glob(os.path.join(input_folder, '*.csv'))\n",
    "    new_df_list = []\n",
    "    for csv_file in csv_files:\n",
    "        df = pd.read_csv(csv_file)\n",
    "        if df_name_changing_to_file_name is not None:\n",
    "            df = df_change_column_name_to_file_name(df, csv_file, df_name_changing_to_file_name)\n",
    "        if df_index is not None:\n",
    "            df = df.set_index(df_index)\n",
    "        else:\n",
    "            pass\n",
    "        new_df_list.append(df)\n",
    "    df = pd.concat(new_df_list, axis=1)\n",
    "    df.to_csv(output_file, index=True, encoding='utf-8-sig')\n",
    "combined_csv(df_index='data_name', df_name_changing_to_file_name='accuracy')\n"
   ]
  }
 ],
 "metadata": {
  "kernelspec": {
   "display_name": "py39_tools",
   "language": "python",
   "name": "python3"
  },
  "language_info": {
   "codemirror_mode": {
    "name": "ipython",
    "version": 3
   },
   "file_extension": ".py",
   "mimetype": "text/x-python",
   "name": "python",
   "nbconvert_exporter": "python",
   "pygments_lexer": "ipython3",
   "version": "3.9.16"
  },
  "orig_nbformat": 4
 },
 "nbformat": 4,
 "nbformat_minor": 2
}
