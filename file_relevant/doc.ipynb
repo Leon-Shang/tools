{
 "cells": [
  {
   "cell_type": "code",
   "execution_count": null,
   "metadata": {},
   "outputs": [],
   "source": [
    "! pip install python-docx"
   ]
  },
  {
   "cell_type": "code",
   "execution_count": null,
   "metadata": {},
   "outputs": [],
   "source": [
    "import json\n",
    "with open('files/folder_dir.json', 'r') as f:\n",
    "    folder_dict = json.load(f)\n"
   ]
  },
  {
   "cell_type": "code",
   "execution_count": null,
   "metadata": {},
   "outputs": [],
   "source": [
    "# Open docx file and change the style\n",
    "import os \n",
    "import docx \n",
    "from docx.enum.style import WD_STYLE_TYPE\n",
    "\n",
    "input_doc_dir = os.path.join(folder_dict['doc'], 'input.docx')\n",
    "output_doc_dir = os.path.join(folder_dict['doc'], 'output.docx')\n",
    "\n",
    "doc = docx.Document(input_doc_dir)\n",
    "# for style in doc.styles:\n",
    "#     print(style.name)\n",
    "styles = doc.styles\n",
    "\n",
    "styles_stat_dict = {}\n",
    "for para in doc.paragraphs:\n",
    "    if para.style.name not in styles_stat_dict:\n",
    "        styles_stat_dict[para.style.name] = 1\n",
    "    else:\n",
    "        styles_stat_dict[para.style.name] += 1\n",
    "\n",
    "# Normal style used for list \n",
    "print(styles_stat_dict)\n",
    "\n",
    "basic_main_dict = {\n",
    "        'font': {\n",
    "            'name': 'simsun',\n",
    "            'size': docx.shared.Pt(10),\n",
    "        },\n",
    "        'paragraph_format': {\n",
    "            'line_spacing': 1.5,\n",
    "        },\n",
    "    }\n",
    "basic_header_dict = {\n",
    "        'font': {\n",
    "            'name': 'Helvetica',\n",
    "            'size': docx.shared.Pt(14),\n",
    "            'color': {'rgb': docx.shared.RGBColor(0, 0, 0)},\n",
    "            'bold': True,\n",
    "        },\n",
    "        'paragraph_format': {\n",
    "            'space_before': docx.shared.Pt(10),\n",
    "            'space_after': docx.shared.Pt(10),\n",
    "            'line_spacing': 1\n",
    "        }    \n",
    "    }\n",
    "\n",
    "\n",
    "my_style_dict = {\n",
    "    'Heading1': basic_header_dict,\n",
    "    'Heading2': basic_header_dict,\n",
    "    'Heading3': basic_header_dict,\n",
    "    'Body Text': basic_main_dict,\n",
    "    'Normal': basic_main_dict,\n",
    "}\n",
    "\n",
    "def update_last_layer_dict(old_dict, new_dict):\n",
    "    for key, value in new_dict.items():\n",
    "        if key not in old_dict:\n",
    "            old_dict[key] = value\n",
    "        else:\n",
    "            if type(value) != dict:\n",
    "                old_dict[key] = value\n",
    "            else:\n",
    "                update_last_layer_dict(old_dict[key], value)\n",
    "update_style_dict = {\n",
    "    'Heading1': {\n",
    "        'font': {\n",
    "            'size': docx.shared.Pt(14),\n",
    "        },\n",
    "    },\n",
    "    'Heading2': {\n",
    "        'font': {\n",
    "            'size': docx.shared.Pt(12),\n",
    "        },\n",
    "    },\n",
    "    'Heading3': {\n",
    "        'font': {\n",
    "            'size': docx.shared.Pt(10),\n",
    "        },\n",
    "    }\n",
    "}\n",
    "update_last_layer_dict(my_style_dict, update_style_dict)\n",
    "def change_style(style, style_dict):\n",
    "    for key, value in style_dict.items():\n",
    "        print(type(style))\n",
    "        if type(value) != dict:\n",
    "            setattr(style, key, value)\n",
    "        else:\n",
    "            if type(style) == docx.styles.styles.Styles:\n",
    "                change_style(style[key], value)\n",
    "            else:\n",
    "                change_style(getattr(style, key), value)   \n",
    "change_style(doc.styles, my_style_dict)\n",
    "# Save the document\n",
    "doc.save(output_doc_dir)"
   ]
<<<<<<< Updated upstream
=======
  },
  {
   "cell_type": "code",
   "execution_count": null,
   "metadata": {},
   "outputs": [],
   "source": [
    "key = 'Heading1'\n",
    "doc.styles[key]"
   ]
  },
  {
   "cell_type": "code",
   "execution_count": null,
   "metadata": {},
   "outputs": [],
   "source": [
    "doc.styles['Body Text']"
   ]
  },
  {
   "cell_type": "code",
   "execution_count": null,
   "metadata": {},
   "outputs": [],
   "source": [
    "doc = docx.Document(input_doc_dir)\n",
    "for s in doc.styles:\n",
    "    print(s.name)\n"
   ]
  },
  {
   "cell_type": "code",
   "execution_count": null,
   "metadata": {},
   "outputs": [],
   "source": []
>>>>>>> Stashed changes
  }
 ],
 "metadata": {
  "kernelspec": {
   "display_name": "py39_tools",
   "language": "python",
   "name": "python3"
  },
  "language_info": {
   "codemirror_mode": {
    "name": "ipython",
    "version": 3
   },
   "file_extension": ".py",
   "mimetype": "text/x-python",
   "name": "python",
   "nbconvert_exporter": "python",
   "pygments_lexer": "ipython3",
   "version": "3.9.16"
  }
 },
 "nbformat": 4,
 "nbformat_minor": 2
}
