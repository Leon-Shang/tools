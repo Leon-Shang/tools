{
 "cells": [
  {
   "attachments": {},
   "cell_type": "markdown",
   "metadata": {},
   "source": [
    "# md to ipynb"
   ]
  },
  {
   "attachments": {},
   "cell_type": "markdown",
   "metadata": {},
   "source": [
    "## jupytext"
   ]
  },
  {
   "cell_type": "code",
   "execution_count": null,
   "metadata": {},
   "outputs": [],
   "source": [
    "! pip install jupytext\n"
   ]
  },
  {
   "cell_type": "code",
   "execution_count": null,
   "metadata": {},
   "outputs": [],
   "source": [
    "response = requests.get(\"https://content.codecademy.com/courses/learn-html-forms/submit%20button2.png\")"
   ]
  },
  {
   "cell_type": "code",
   "execution_count": null,
   "metadata": {},
   "outputs": [],
   "source": [
    "response.content"
   ]
  },
  {
   "cell_type": "code",
   "execution_count": null,
   "metadata": {},
   "outputs": [],
   "source": [
    "# NOTICE: make sure the picture could be shown in the md file\n",
    "import os\n",
    "import re\n",
    "import base64\n",
    "import nbformat as nbf\n",
    "from pathlib import Path\n",
    "import requests\n",
    "# Replace 'my_note_database.md' with the path to your markdown file\n",
    "\n",
    "def transform_md_to_ipynb(file_name, folder_name= 'files/md_to_ipynb',transform_link = True):\n",
    "    markdown_file_dir = f'{folder_name}/{file_name}.md'\n",
    "    # Replace 'output_notebook.ipynb' with the desired output file name\n",
    "    output_notebook = f'.ipynb'\n",
    "    # Run the jupytext command\n",
    "    os.system(f'jupytext --to {output_notebook} {markdown_file_dir}')\n",
    "\n",
    "    def transform_link_to_attachment(folder_name, file_name):\n",
    "        input_dir = f'{folder_name}/{file_name}.ipynb'\n",
    "        output_dir =  f'{folder_name}/{file_name}_attach.ipynb'\n",
    "        # Load the existing notebook\n",
    "        with open(input_dir, \"r\") as f:\n",
    "            nb = nbf.read(f, as_version=4)\n",
    "\n",
    "        # Regular expression to match image links\n",
    "        image_pattern = re.compile(r'!\\[.*?\\]\\((.+?)\\)')\n",
    "\n",
    "        # Iterate through cells in the notebook\n",
    "        new_cells = []\n",
    "        for cell in nb.cells:\n",
    "            if cell.cell_type == \"markdown\":\n",
    "                # Search for image links in the Markdown cell\n",
    "                matches = list(image_pattern.finditer(cell.source))\n",
    "                if matches:\n",
    "                    last_end = 0\n",
    "                    for match in matches:\n",
    "                        # Add the content before the image as a separate Markdown cell\n",
    "                        content_before_image = cell.source[last_end:match.start()]\n",
    "                        if content_before_image.strip():\n",
    "                            new_cells.append(nbf.v4.new_markdown_cell(content_before_image))\n",
    "\n",
    "                        image_path = match.group(1)\n",
    "                        image_name = Path(image_path).name\n",
    "                        image_name = \"\".join(char if char.isalnum() else \"_\" for char in image_name)\n",
    "                        if image_path.endswith('.svg'):\n",
    "                            if image_path.startswith(\"http\"):\n",
    "                                response = requests.get(image_path)\n",
    "                                svg_data = response.content\n",
    "                            else:\n",
    "                                with open(f'{folder_name}/{image_path}', \"r\") as img_file:\n",
    "                                    svg_data = img_file.read()\n",
    "                            svg_base64 = base64.b64encode(svg_data.encode(\"utf-8\")).decode(\"utf-8\")\n",
    "                            attachment_cell = nbf.v4.new_markdown_cell()\n",
    "                            attachment_cell.source = f\"![{image_name}](attachment:{image_name})\"\n",
    "                            attachment_cell.attachments = {\n",
    "                                image_name: {\n",
    "                                    \"image/svg+xml\": svg_base64\n",
    "                                }   \n",
    "                            }\n",
    "                        else:\n",
    "                        # Create a new Markdown cell with the image as an attachment\n",
    "                            if image_path.startswith(\"http\"):\n",
    "                                # Download image from the URL\n",
    "                                response = requests.get(image_path)\n",
    "                                img_data = response.content\n",
    "\n",
    "                                # Read image file\n",
    "\n",
    "                            else:\n",
    "                                with open(f'{folder_name}/{image_path}', \"rb\") as img_file:\n",
    "                                    img_data = img_file.read()\n",
    "\n",
    "                            img_base64 = base64.b64encode(img_data).decode(\"utf-8\")\n",
    "                            img_mime = f\"image/{Path(image_path).suffix[1:]}\"\n",
    "                            attachment_cell = nbf.v4.new_markdown_cell()\n",
    "                            attachment_cell.source = f\"![{image_name}](attachment:{image_name})\"\n",
    "                            attachment_cell.attachments = {\n",
    "                                image_name: {\n",
    "                                    img_mime: img_base64\n",
    "                                }\n",
    "                            }\n",
    "                        new_cells.append(attachment_cell)\n",
    "                        last_end = match.end()\n",
    "\n",
    "                    # Add the content after the last image as a separate Markdown cell\n",
    "                    content_after_image = cell.source[last_end:]\n",
    "                    if content_after_image.strip():\n",
    "                        new_cells.append(nbf.v4.new_markdown_cell(content_after_image))\n",
    "                else:\n",
    "                    new_cells.append(cell)\n",
    "            else:\n",
    "                new_cells.append(cell)\n",
    "\n",
    "        nb.cells = new_cells\n",
    "\n",
    "        # Save the modified notebook\n",
    "        with open(output_dir, \"w\") as f:\n",
    "            nbf.write(nb, f)\n",
    "\n",
    "    if transform_link:\n",
    "        transform_link_to_attachment(folder_name, file_name)\n",
    "folder_path = 'files/md_to_ipynb'\n",
    "for file in os.listdir(folder_path):\n",
    "    if file.endswith('.md'):\n",
    "        transform_md_to_ipynb(file.split('.')[0])\n"
   ]
  },
  {
   "cell_type": "code",
   "execution_count": null,
   "metadata": {},
   "outputs": [],
   "source": [
    "from general_function import delete_all_files\n",
    "# Usage\n",
    "\n",
    "delete_all_files(folder_path, reserve_dir=['typora-user-images'])"
   ]
  },
  {
   "attachments": {},
   "cell_type": "markdown",
   "metadata": {},
   "source": [
    "# ipynb to md"
   ]
  },
  {
   "attachments": {},
   "cell_type": "markdown",
   "metadata": {},
   "source": [
    "**First, run command**"
   ]
  },
  {
   "cell_type": "code",
   "execution_count": null,
   "metadata": {},
   "outputs": [],
   "source": [
    "!jupyter nbconvert --to markdown --config config.py files/ipynb_to_md/interpretability.ipynb"
   ]
  },
  {
   "cell_type": "code",
   "execution_count": null,
   "metadata": {},
   "outputs": [],
   "source": [
    "import nbformat\n",
    "\n",
    "with open('files/ipynb_to_md/interpretability.ipynb') as f:\n",
    "    nb = nbformat.read(f, as_version=4)\n",
    "\n",
    "from nbconvert import MarkdownExporter\n",
    "\n",
    "exporter = MarkdownExporter()\n",
    "output, resources = exporter.from_notebook_node(nb)"
   ]
  },
  {
   "attachments": {},
   "cell_type": "markdown",
   "metadata": {},
   "source": [
    "**Finally, clear the folder for the next usage**"
   ]
  },
  {
   "cell_type": "code",
   "execution_count": null,
   "metadata": {},
   "outputs": [],
   "source": [
    "from general_function import delete_all_files\n",
    "# Usage\n",
    "folder_path = 'files/ipynb_to_md/'\n",
    "delete_all_files(folder_path)"
   ]
  },
  {
   "attachments": {},
   "cell_type": "markdown",
   "metadata": {},
   "source": [
    "# txt to ipynb"
   ]
  },
  {
   "cell_type": "code",
   "execution_count": null,
   "metadata": {},
   "outputs": [],
   "source": [
    "! pip install nbformat"
   ]
  },
  {
   "cell_type": "code",
   "execution_count": null,
   "metadata": {},
   "outputs": [],
   "source": [
    "import nbformat as nbf\n",
    "import os\n",
    "folder_path = 'files/txt_to_ipynb'\n",
    "def txt_to_ipynb(txt_file, ipynb_file):\n",
    "    # Read the .txt file\n",
    "    with open(txt_file, 'r', encoding='utf-8') as f:\n",
    "        lines = f.readlines()\n",
    "\n",
    "    # Create a new notebook\n",
    "    nb = nbf.v4.new_notebook()\n",
    "\n",
    "    # Iterate over the lines in pairs and add them to the notebook\n",
    "    for i in range(0, len(lines), 2):\n",
    "        # Take two lines at a time\n",
    "        text = lines[i:i+2]\n",
    "        # Convert list of lines to a single string\n",
    "        text = '\\n综述：'.join(text)\n",
    "        text += '\\n模型图：\\n\\n案例数据'\n",
    "        # Create a new markdown cell\n",
    "        cell = nbf.v4.new_markdown_cell(text)\n",
    "        # Add the cell to the notebook\n",
    "        nb['cells'].append(cell)\n",
    "\n",
    "    # Write the notebook to a .ipynb file\n",
    "    with open(ipynb_file, 'w', encoding='utf-8') as f:\n",
    "        nbf.write(nb, f)\n",
    "\n",
    "# Example usage\n",
    "for f in os.listdir(folder_path):\n",
    "    if f.endswith('.txt'):\n",
    "        txt_to_ipynb(f'{folder_path}/{f}', f'{folder_path}/{f.split(\".\")[0]}.ipynb')\n"
   ]
  },
  {
   "attachments": {},
   "cell_type": "markdown",
   "metadata": {},
   "source": [
    "# ipynb modification"
   ]
  },
  {
   "attachments": {},
   "cell_type": "markdown",
   "metadata": {},
   "source": [
    "## add citation"
   ]
  },
  {
   "cell_type": "code",
   "execution_count": null,
   "metadata": {},
   "outputs": [],
   "source": [
    "import json\n",
    "import os\n",
    "citation = \"Your citation text here.\"\n",
    "\n",
    "\n",
    "input_folder = 'files/ipynb'\n",
    "for file in os.listdir(input_folder):\n",
    "    with open(f'{input_folder}/{file}', 'r') as f:\n",
    "        notebook = json.load(f)\n",
    "    # Iterate through the cells and add a citation to each markdown cell\n",
    "    for cell in notebook['cells']:\n",
    "        if cell['cell_type'] == 'markdown':\n",
    "            source = cell['source']\n",
    "            if not any(line.startswith('#') for line in source) and not any('citation' in line for line in source):\n",
    "                # Add citation at the end of the markdown cell\n",
    "                new_source = [].append(source)\n",
    "                cell['source'].insert(0, f'> {citation}\\n\\n')\n",
    "\n",
    "    # Save the updated ipynb file\n",
    "    with open(f'{input_folder}/updated_{file}', 'w') as f:\n",
    "        json.dump(notebook, f, indent=1)\n"
   ]
  },
  {
   "cell_type": "code",
   "execution_count": null,
   "metadata": {},
   "outputs": [],
   "source": [
    "from general_function import delete_all_files\n",
    "delete_all_files(input_folder)"
   ]
  }
 ],
 "metadata": {
  "kernelspec": {
   "display_name": "py39_tools",
   "language": "python",
   "name": "python3"
  },
  "language_info": {
   "codemirror_mode": {
    "name": "ipython",
    "version": 3
   },
   "file_extension": ".py",
   "mimetype": "text/x-python",
   "name": "python",
   "nbconvert_exporter": "python",
   "pygments_lexer": "ipython3",
   "version": "3.9.16"
  }
 },
 "nbformat": 4,
 "nbformat_minor": 2
}
