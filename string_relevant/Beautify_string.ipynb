{
 "cells": [
  {
   "attachments": {},
   "cell_type": "markdown",
   "metadata": {},
   "source": [
    "# For Markdown"
   ]
  },
  {
   "attachments": {},
   "cell_type": "markdown",
   "metadata": {},
   "source": [
    "**String to table**"
   ]
  },
  {
   "cell_type": "code",
   "execution_count": 5,
   "metadata": {},
   "outputs": [
    {
     "name": "stdout",
     "output_type": "stream",
     "text": [
      " | Source | DF | Adj SS | Adj MS | F-Value | P-Value | \n",
      " | --- | --- | --- | --- | --- | --- | \n",
      " | Regression | 4 | 47.9096 | 11.9774 | 18.17 | 0.000 | \n",
      " |   Conc | 1 | 3.9232 | 3.9232 | 5.95 | 0.022 | \n",
      " |   Ratio | 1 | 31.0216 | 31.0216 | 47.07 | 0.000 | \n",
      " |   Temp | 1 | 3.6031 | 3.6031 | 5.47 | 0.027 | \n",
      " |   Time | 1 | 1.9839 | 1.9839 | 3.01 | 0.094 | \n",
      " | Error | 27 | 17.7953 | 0.6591 |   |   | \n",
      " |   Lack-of-Fit | 25 | 17.7836 | 0.7113 | 121.94 | 0.008 | \n",
      " |   Pure Error | 2 | 0.0117 | 0.0058 |   |   | \n",
      " | Total | 31 | 65.7049 |   |   |   | \n"
     ]
    }
   ],
   "source": [
    "a = \"\"\"Source\tDF\tAdj SS\tAdj MS\tF-Value\tP-Value\n",
    "Regression\t4\t47.9096\t11.9774\t18.17\t0.000\n",
    "  Conc\t1\t3.9232\t3.9232\t5.95\t0.022\n",
    "  Ratio\t1\t31.0216\t31.0216\t47.07\t0.000\n",
    "  Temp\t1\t3.6031\t3.6031\t5.47\t0.027\n",
    "  Time\t1\t1.9839\t1.9839\t3.01\t0.094\n",
    "Error\t27\t17.7953\t0.6591\t \t \n",
    "  Lack-of-Fit\t25\t17.7836\t0.7113\t121.94\t0.008\n",
    "  Pure Error\t2\t0.0117\t0.0058\t \t \n",
    "Total\t31\t65.7049\t \t \t \"\"\"\n",
    "\n",
    "\n",
    "\n",
    "def get_table_from_string(s):\n",
    "    s = s.replace('\\t', ' | ')\n",
    "    s = s.replace('\\n', ' | \\n | ')\n",
    "    s = ' | ' + s + ' | '\n",
    "    first_line = s[:s.find('\\n')+1]\n",
    "    num_cols = first_line.count('|')-1\n",
    "    divide_line = ' | ' + ' | '.join(['---'] * num_cols) + ' | \\n'\n",
    "    s = first_line + divide_line + s[s.find('\\n')+1:]\n",
    "\n",
    "    return s\n",
    "\n",
    "print(get_table_from_string(a))"
   ]
  }
 ],
 "metadata": {
  "kernelspec": {
   "display_name": "base",
   "language": "python",
   "name": "python3"
  },
  "language_info": {
   "codemirror_mode": {
    "name": "ipython",
    "version": 3
   },
   "file_extension": ".py",
   "mimetype": "text/x-python",
   "name": "python",
   "nbconvert_exporter": "python",
   "pygments_lexer": "ipython3",
   "version": "3.8.5"
  },
  "orig_nbformat": 4
 },
 "nbformat": 4,
 "nbformat_minor": 2
}
