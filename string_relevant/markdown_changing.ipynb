{
 "cells": [
  {
   "attachments": {},
   "cell_type": "markdown",
   "metadata": {},
   "source": []
  },
  {
   "cell_type": "code",
   "execution_count": null,
   "metadata": {},
   "outputs": [],
   "source": [
    "! pip install pyperclip"
   ]
  },
  {
   "attachments": {},
   "cell_type": "markdown",
   "metadata": {},
   "source": [
    "# Level changing\n",
    "\n",
    "## upgrade level"
   ]
  },
  {
   "cell_type": "code",
   "execution_count": null,
   "metadata": {},
   "outputs": [],
   "source": [
    "import re\n",
    "import pyperclip\n",
    "def upgrade_title_level(text, level_diff):\n",
    "    adjusted_lines = []\n",
    "    for line in text.split('\\n'):\n",
    "        match = re.match(r'^(#+)\\s+(.*)$', line)\n",
    "        if match:\n",
    "            current_level = len(match.group(1))\n",
    "            new_level = max(1, current_level - level_diff)\n",
    "            adjusted_lines.append(f\"{'#' * new_level} {match.group(2)}\")\n",
    "        else:\n",
    "            adjusted_lines.append(line)\n",
    "    return '\\n'.join(adjusted_lines)\n",
    "\n",
    "if __name__ == '__main__':\n",
    "    level_difference = 1  # Number of levels to adjust the titles (positive or negative)\n",
    "\n",
    "    # Get the markdown text from the clipboard\n",
    "    markdown_text = pyperclip.paste()\n",
    "\n",
    "    # Adjust the title level\n",
    "    adjusted_text = upgrade_title_level(markdown_text, level_difference)\n",
    "\n",
    "    # Copy the adjusted text back to the clipboard\n",
    "    pyperclip.copy(adjusted_text)\n"
   ]
  },
  {
   "attachments": {},
   "cell_type": "markdown",
   "metadata": {},
   "source": [
    "## Downgrade level"
   ]
  },
  {
   "cell_type": "code",
   "execution_count": null,
   "metadata": {},
   "outputs": [],
   "source": [
    "import re\n",
    "import pyperclip\n",
    "def downgrade_title_level(text, level_diff):\n",
    "    adjusted_lines = []\n",
    "    for line in text.split('\\n'):\n",
    "        match = re.match(r'^(#+)\\s+(.*)$', line)\n",
    "        if match:\n",
    "            current_level = len(match.group(1))\n",
    "            new_level = max(1, current_level + level_diff)\n",
    "            adjusted_lines.append(f\"{'#' * new_level} {match.group(2)}\")\n",
    "        else:\n",
    "            adjusted_lines.append(line)\n",
    "    return '\\n'.join(adjusted_lines)\n",
    "\n",
    "if __name__ == '__main__':\n",
    "    level_difference = 1  # Number of levels to adjust the titles (positive or negative)\n",
    "\n",
    "    # Get the markdown text from the clipboard\n",
    "    markdown_text = pyperclip.paste()\n",
    "\n",
    "    # Adjust the title level\n",
    "    adjusted_text = downgrade_title_level(markdown_text, level_difference)\n",
    "\n",
    "    # Copy the adjusted text back to the clipboard\n",
    "    pyperclip.copy(adjusted_text)\n"
   ]
  },
  {
   "attachments": {},
   "cell_type": "markdown",
   "metadata": {},
   "source": [
    "## Delete level"
   ]
  },
  {
   "cell_type": "code",
   "execution_count": null,
   "metadata": {},
   "outputs": [],
   "source": [
    "import re\n",
    "import pyperclip\n",
    "def downgrade_title_level(text, level_diff):\n",
    "    adjusted_lines = []\n",
    "    for line in text.split('\\n'):\n",
    "        match = re.match(r'^(#+)\\s+(.*)$', line)\n",
    "        if match:\n",
    "            current_level = len(match.group(1))\n",
    "            new_level = 0\n",
    "            adjusted_lines.append(f\"{'#' * new_level} {match.group(2)}\")\n",
    "        else:\n",
    "            adjusted_lines.append(line)\n",
    "    return '\\n'.join(adjusted_lines)\n",
    "\n",
    "if __name__ == '__main__':\n",
    "    level_difference = 1  # Number of levels to adjust the titles (positive or negative)\n",
    "\n",
    "    # Get the markdown text from the clipboard\n",
    "    markdown_text = pyperclip.paste()\n",
    "\n",
    "    # Adjust the title level\n",
    "    adjusted_text = downgrade_title_level(markdown_text, level_difference)\n",
    "\n",
    "    # Copy the adjusted text back to the clipboard\n",
    "    pyperclip.copy(adjusted_text)\n"
   ]
  },
  {
   "attachments": {},
   "cell_type": "markdown",
   "metadata": {},
   "source": []
  }
 ],
 "metadata": {
  "kernelspec": {
   "display_name": "py39_tools",
   "language": "python",
   "name": "python3"
  },
  "language_info": {
   "codemirror_mode": {
    "name": "ipython",
    "version": 3
   },
   "file_extension": ".py",
   "mimetype": "text/x-python",
   "name": "python",
   "nbconvert_exporter": "python",
   "pygments_lexer": "ipython3",
   "version": "3.9.16"
  }
 },
 "nbformat": 4,
 "nbformat_minor": 2
}
