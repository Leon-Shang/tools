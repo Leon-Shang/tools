{
 "cells": [
  {
   "cell_type": "markdown",
   "metadata": {},
   "source": []
  },
  {
   "cell_type": "code",
   "execution_count": 2,
   "metadata": {},
   "outputs": [
    {
     "name": "stdout",
     "output_type": "stream",
     "text": [
      "Collecting pyperclip\n",
      "  Downloading pyperclip-1.8.2.tar.gz (20 kB)\n",
      "  Preparing metadata (setup.py): started\n",
      "  Preparing metadata (setup.py): finished with status 'done'\n",
      "Building wheels for collected packages: pyperclip\n",
      "  Building wheel for pyperclip (setup.py): started\n",
      "  Building wheel for pyperclip (setup.py): finished with status 'done'\n",
      "  Created wheel for pyperclip: filename=pyperclip-1.8.2-py3-none-any.whl size=11137 sha256=5d4ff831ec7de065a9e28e5e2e4bb9d934cd9803b0cf9f129133e37cee8ac202\n",
      "  Stored in directory: c:\\users\\leon\\appdata\\local\\pip\\cache\\wheels\\0c\\09\\9e\\49e21a6840ef7955b06d47394afef0058f0378c0914e48b8b8\n",
      "Successfully built pyperclip\n",
      "Installing collected packages: pyperclip\n",
      "Successfully installed pyperclip-1.8.2\n"
     ]
    }
   ],
   "source": [
    "! pip install pyperclip"
   ]
  },
  {
   "attachments": {},
   "cell_type": "markdown",
   "metadata": {},
   "source": [
    "# Level changing\n",
    "\n",
    "## upgrade level"
   ]
  },
  {
   "cell_type": "code",
   "execution_count": 3,
   "metadata": {},
   "outputs": [],
   "source": [
    "import re\n",
    "import pyperclip\n",
    "def upgrade_title_level(text, level_diff):\n",
    "    adjusted_lines = []\n",
    "    for line in text.split('\\n'):\n",
    "        match = re.match(r'^(#+)\\s+(.*)$', line)\n",
    "        if match:\n",
    "            current_level = len(match.group(1))\n",
    "            new_level = max(1, current_level - level_diff)\n",
    "            adjusted_lines.append(f\"{'#' * new_level} {match.group(2)}\")\n",
    "        else:\n",
    "            adjusted_lines.append(line)\n",
    "    return '\\n'.join(adjusted_lines)\n",
    "\n",
    "if __name__ == '__main__':\n",
    "    level_difference = 1  # Number of levels to adjust the titles (positive or negative)\n",
    "\n",
    "    # Get the markdown text from the clipboard\n",
    "    markdown_text = pyperclip.paste()\n",
    "\n",
    "    # Adjust the title level\n",
    "    adjusted_text = upgrade_title_level(markdown_text, level_difference)\n",
    "\n",
    "    # Copy the adjusted text back to the clipboard\n",
    "    pyperclip.copy(adjusted_text)\n"
   ]
  },
  {
   "attachments": {},
   "cell_type": "markdown",
   "metadata": {},
   "source": [
    "## Downgrade level"
   ]
  },
  {
   "cell_type": "code",
   "execution_count": 4,
   "metadata": {},
   "outputs": [],
   "source": [
    "import re\n",
    "import pyperclip\n",
    "def downgrade_title_level(text, level_diff):\n",
    "    adjusted_lines = []\n",
    "    for line in text.split('\\n'):\n",
    "        match = re.match(r'^(#+)\\s+(.*)$', line)\n",
    "        if match:\n",
    "            current_level = len(match.group(1))\n",
    "            new_level = max(1, current_level + level_diff)\n",
    "            adjusted_lines.append(f\"{'#' * new_level} {match.group(2)}\")\n",
    "        else:\n",
    "            adjusted_lines.append(line)\n",
    "    return '\\n'.join(adjusted_lines)\n",
    "\n",
    "if __name__ == '__main__':\n",
    "    level_difference = 1  # Number of levels to adjust the titles (positive or negative)\n",
    "\n",
    "    # Get the markdown text from the clipboard\n",
    "    markdown_text = pyperclip.paste()\n",
    "\n",
    "    # Adjust the title level\n",
    "    adjusted_text = downgrade_title_level(markdown_text, level_difference)\n",
    "\n",
    "    # Copy the adjusted text back to the clipboard\n",
    "    pyperclip.copy(adjusted_text)\n"
   ]
  },
  {
   "attachments": {},
   "cell_type": "markdown",
   "metadata": {},
   "source": [
    "## Delete level"
   ]
  },
  {
   "cell_type": "code",
   "execution_count": 4,
   "metadata": {},
   "outputs": [],
   "source": [
    "import re\n",
    "import pyperclip\n",
    "def downgrade_title_level(text, level_diff):\n",
    "    adjusted_lines = []\n",
    "    for line in text.split('\\n'):\n",
    "        match = re.match(r'^(#+)\\s+(.*)$', line)\n",
    "        if match:\n",
    "            current_level = len(match.group(1))\n",
    "            new_level = 0\n",
    "            adjusted_lines.append(f\"{'#' * new_level} {match.group(2)}\")\n",
    "        else:\n",
    "            adjusted_lines.append(line)\n",
    "    return '\\n'.join(adjusted_lines)\n",
    "\n",
    "if __name__ == '__main__':\n",
    "    level_difference = 1  # Number of levels to adjust the titles (positive or negative)\n",
    "\n",
    "    # Get the markdown text from the clipboard\n",
    "    markdown_text = pyperclip.paste()\n",
    "\n",
    "    # Adjust the title level\n",
    "    adjusted_text = downgrade_title_level(markdown_text, level_difference)\n",
    "\n",
    "    # Copy the adjusted text back to the clipboard\n",
    "    pyperclip.copy(adjusted_text)\n"
   ]
  },
  {
   "attachments": {},
   "cell_type": "markdown",
   "metadata": {},
   "source": []
  }
 ],
 "metadata": {
  "kernelspec": {
   "display_name": "py39_tools",
   "language": "python",
   "name": "python3"
  },
  "language_info": {
   "codemirror_mode": {
    "name": "ipython",
    "version": 3
   },
   "file_extension": ".py",
   "mimetype": "text/x-python",
   "name": "python",
   "nbconvert_exporter": "python",
   "pygments_lexer": "ipython3",
   "version": "3.9.16"
  },
  "orig_nbformat": 4
 },
 "nbformat": 4,
 "nbformat_minor": 2
}
