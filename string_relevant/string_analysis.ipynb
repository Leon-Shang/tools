{
 "cells": [
  {
   "cell_type": "code",
   "execution_count": null,
   "metadata": {},
   "outputs": [],
   "source": [
    "# statistic the number of characters in each string\n",
    "\n",
    "txt = open('resources\\input.txt', 'r').read()\n",
    "txt = txt.replace('\\n', '')\n",
    "txt = txt.replace('\\t', '')\n",
    "txt = txt.replace('\\r', '')\n",
    "txt = txt.replace(' ', '')\n",
    "print(txt)\n",
    "char_num = len(txt)\n",
    "print(char_num)\n"
   ]
  }
 ],
 "metadata": {
  "kernelspec": {
   "display_name": "py39_tools",
   "language": "python",
   "name": "python3"
  },
  "language_info": {
   "codemirror_mode": {
    "name": "ipython",
    "version": 3
   },
   "file_extension": ".py",
   "mimetype": "text/x-python",
   "name": "python",
   "nbconvert_exporter": "python",
   "pygments_lexer": "ipython3",
   "version": "3.9.16"
  }
 },
 "nbformat": 4,
 "nbformat_minor": 2
}
